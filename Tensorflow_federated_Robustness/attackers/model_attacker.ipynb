{
  "nbformat": 4,
  "nbformat_minor": 0,
  "metadata": {
    "colab": {
      "name": "model_attacker.ipynb",
      "provenance": [],
      "collapsed_sections": [],
      "authorship_tag": "ABX9TyPUyCOGCaVbJjxfHExVNlyA",
      "include_colab_link": true
    },
    "kernelspec": {
      "name": "python3",
      "display_name": "Python 3"
    },
    "language_info": {
      "name": "python"
    }
  },
  "cells": [
    {
      "cell_type": "markdown",
      "metadata": {
        "id": "view-in-github",
        "colab_type": "text"
      },
      "source": [
        "<a href=\"https://colab.research.google.com/github/ElnathanTiokou/Adversarial_Robustness_of_FL_systems/blob/main/Tensorflow_federated_Robustness/attackers/model_attacker.ipynb\" target=\"_parent\"><img src=\"https://colab.research.google.com/assets/colab-badge.svg\" alt=\"Open In Colab\"/></a>"
      ]
    },
    {
      "cell_type": "code",
      "source": [
        "\n",
        "!pip install --quiet  tensorflow-federated==0.20.0\n",
        "# The latest version of tensorflow-federated is not working with the colab python version\n",
        "!pip install --quiet --upgrade nest-asyncio\n",
        "\n",
        "import nest_asyncio\n",
        "nest_asyncio.apply()"
      ],
      "metadata": {
        "colab": {
          "base_uri": "https://localhost:8080/"
        },
        "id": "mX7MKfAXwbp2",
        "outputId": "0712d333-9dca-418e-9605-1502270df4bd"
      },
      "execution_count": 6,
      "outputs": [
        {
          "output_type": "stream",
          "name": "stdout",
          "text": [
            "\u001b[?25l\r\u001b[K     |▍                               | 10 kB 21.6 MB/s eta 0:00:01\r\u001b[K     |▉                               | 20 kB 14.9 MB/s eta 0:00:01\r\u001b[K     |█▏                              | 30 kB 10.2 MB/s eta 0:00:01\r\u001b[K     |█▋                              | 40 kB 4.6 MB/s eta 0:00:01\r\u001b[K     |██                              | 51 kB 4.5 MB/s eta 0:00:01\r\u001b[K     |██▍                             | 61 kB 5.3 MB/s eta 0:00:01\r\u001b[K     |██▉                             | 71 kB 5.8 MB/s eta 0:00:01\r\u001b[K     |███▏                            | 81 kB 5.4 MB/s eta 0:00:01\r\u001b[K     |███▋                            | 92 kB 6.0 MB/s eta 0:00:01\r\u001b[K     |████                            | 102 kB 4.8 MB/s eta 0:00:01\r\u001b[K     |████▍                           | 112 kB 4.8 MB/s eta 0:00:01\r\u001b[K     |████▉                           | 122 kB 4.8 MB/s eta 0:00:01\r\u001b[K     |█████▏                          | 133 kB 4.8 MB/s eta 0:00:01\r\u001b[K     |█████▋                          | 143 kB 4.8 MB/s eta 0:00:01\r\u001b[K     |██████                          | 153 kB 4.8 MB/s eta 0:00:01\r\u001b[K     |██████▍                         | 163 kB 4.8 MB/s eta 0:00:01\r\u001b[K     |██████▉                         | 174 kB 4.8 MB/s eta 0:00:01\r\u001b[K     |███████▏                        | 184 kB 4.8 MB/s eta 0:00:01\r\u001b[K     |███████▋                        | 194 kB 4.8 MB/s eta 0:00:01\r\u001b[K     |████████                        | 204 kB 4.8 MB/s eta 0:00:01\r\u001b[K     |████████▍                       | 215 kB 4.8 MB/s eta 0:00:01\r\u001b[K     |████████▉                       | 225 kB 4.8 MB/s eta 0:00:01\r\u001b[K     |█████████▏                      | 235 kB 4.8 MB/s eta 0:00:01\r\u001b[K     |█████████▋                      | 245 kB 4.8 MB/s eta 0:00:01\r\u001b[K     |██████████                      | 256 kB 4.8 MB/s eta 0:00:01\r\u001b[K     |██████████▍                     | 266 kB 4.8 MB/s eta 0:00:01\r\u001b[K     |██████████▉                     | 276 kB 4.8 MB/s eta 0:00:01\r\u001b[K     |███████████▏                    | 286 kB 4.8 MB/s eta 0:00:01\r\u001b[K     |███████████▋                    | 296 kB 4.8 MB/s eta 0:00:01\r\u001b[K     |████████████                    | 307 kB 4.8 MB/s eta 0:00:01\r\u001b[K     |████████████▍                   | 317 kB 4.8 MB/s eta 0:00:01\r\u001b[K     |████████████▉                   | 327 kB 4.8 MB/s eta 0:00:01\r\u001b[K     |█████████████▏                  | 337 kB 4.8 MB/s eta 0:00:01\r\u001b[K     |█████████████▋                  | 348 kB 4.8 MB/s eta 0:00:01\r\u001b[K     |██████████████                  | 358 kB 4.8 MB/s eta 0:00:01\r\u001b[K     |██████████████▍                 | 368 kB 4.8 MB/s eta 0:00:01\r\u001b[K     |██████████████▉                 | 378 kB 4.8 MB/s eta 0:00:01\r\u001b[K     |███████████████▏                | 389 kB 4.8 MB/s eta 0:00:01\r\u001b[K     |███████████████▋                | 399 kB 4.8 MB/s eta 0:00:01\r\u001b[K     |████████████████                | 409 kB 4.8 MB/s eta 0:00:01\r\u001b[K     |████████████████▍               | 419 kB 4.8 MB/s eta 0:00:01\r\u001b[K     |████████████████▉               | 430 kB 4.8 MB/s eta 0:00:01\r\u001b[K     |█████████████████▏              | 440 kB 4.8 MB/s eta 0:00:01\r\u001b[K     |█████████████████▋              | 450 kB 4.8 MB/s eta 0:00:01\r\u001b[K     |██████████████████              | 460 kB 4.8 MB/s eta 0:00:01\r\u001b[K     |██████████████████▍             | 471 kB 4.8 MB/s eta 0:00:01\r\u001b[K     |██████████████████▉             | 481 kB 4.8 MB/s eta 0:00:01\r\u001b[K     |███████████████████▏            | 491 kB 4.8 MB/s eta 0:00:01\r\u001b[K     |███████████████████▋            | 501 kB 4.8 MB/s eta 0:00:01\r\u001b[K     |████████████████████            | 512 kB 4.8 MB/s eta 0:00:01\r\u001b[K     |████████████████████▍           | 522 kB 4.8 MB/s eta 0:00:01\r\u001b[K     |████████████████████▉           | 532 kB 4.8 MB/s eta 0:00:01\r\u001b[K     |█████████████████████▏          | 542 kB 4.8 MB/s eta 0:00:01\r\u001b[K     |█████████████████████▋          | 552 kB 4.8 MB/s eta 0:00:01\r\u001b[K     |██████████████████████          | 563 kB 4.8 MB/s eta 0:00:01\r\u001b[K     |██████████████████████▍         | 573 kB 4.8 MB/s eta 0:00:01\r\u001b[K     |██████████████████████▉         | 583 kB 4.8 MB/s eta 0:00:01\r\u001b[K     |███████████████████████▏        | 593 kB 4.8 MB/s eta 0:00:01\r\u001b[K     |███████████████████████▋        | 604 kB 4.8 MB/s eta 0:00:01\r\u001b[K     |████████████████████████        | 614 kB 4.8 MB/s eta 0:00:01\r\u001b[K     |████████████████████████▍       | 624 kB 4.8 MB/s eta 0:00:01\r\u001b[K     |████████████████████████▉       | 634 kB 4.8 MB/s eta 0:00:01\r\u001b[K     |█████████████████████████▏      | 645 kB 4.8 MB/s eta 0:00:01\r\u001b[K     |█████████████████████████▋      | 655 kB 4.8 MB/s eta 0:00:01\r\u001b[K     |██████████████████████████      | 665 kB 4.8 MB/s eta 0:00:01\r\u001b[K     |██████████████████████████▍     | 675 kB 4.8 MB/s eta 0:00:01\r\u001b[K     |██████████████████████████▊     | 686 kB 4.8 MB/s eta 0:00:01\r\u001b[K     |███████████████████████████▏    | 696 kB 4.8 MB/s eta 0:00:01\r\u001b[K     |███████████████████████████▋    | 706 kB 4.8 MB/s eta 0:00:01\r\u001b[K     |████████████████████████████    | 716 kB 4.8 MB/s eta 0:00:01\r\u001b[K     |████████████████████████████▍   | 727 kB 4.8 MB/s eta 0:00:01\r\u001b[K     |████████████████████████████▊   | 737 kB 4.8 MB/s eta 0:00:01\r\u001b[K     |█████████████████████████████▏  | 747 kB 4.8 MB/s eta 0:00:01\r\u001b[K     |█████████████████████████████▋  | 757 kB 4.8 MB/s eta 0:00:01\r\u001b[K     |██████████████████████████████  | 768 kB 4.8 MB/s eta 0:00:01\r\u001b[K     |██████████████████████████████▍ | 778 kB 4.8 MB/s eta 0:00:01\r\u001b[K     |██████████████████████████████▊ | 788 kB 4.8 MB/s eta 0:00:01\r\u001b[K     |███████████████████████████████▏| 798 kB 4.8 MB/s eta 0:00:01\r\u001b[K     |███████████████████████████████▋| 808 kB 4.8 MB/s eta 0:00:01\r\u001b[K     |████████████████████████████████| 819 kB 4.8 MB/s eta 0:00:01\r\u001b[K     |████████████████████████████████| 819 kB 4.8 MB/s \n",
            "\u001b[K     |████████████████████████████████| 237 kB 60.5 MB/s \n",
            "\u001b[K     |████████████████████████████████| 65.1 MB 89 kB/s \n",
            "\u001b[K     |████████████████████████████████| 53 kB 1.6 MB/s \n",
            "\u001b[K     |████████████████████████████████| 121 kB 70.9 MB/s \n",
            "\u001b[K     |████████████████████████████████| 251 kB 70.7 MB/s \n",
            "\u001b[K     |████████████████████████████████| 45 kB 2.8 MB/s \n",
            "\u001b[K     |████████████████████████████████| 4.0 MB 39.9 MB/s \n",
            "\u001b[K     |████████████████████████████████| 887 kB 58.2 MB/s \n",
            "\u001b[K     |████████████████████████████████| 462 kB 49.4 MB/s \n",
            "\u001b[K     |████████████████████████████████| 4.2 MB 41.5 MB/s \n",
            "\u001b[?25h  Building wheel for jax (setup.py) ... \u001b[?25l\u001b[?25hdone\n",
            "\u001b[31mERROR: pip's dependency resolver does not currently take into account all the packages that are installed. This behaviour is the source of the following dependency conflicts.\n",
            "spacy 2.2.4 requires tqdm<5.0.0,>=4.38.0, but you have tqdm 4.28.1 which is incompatible.\n",
            "pymc3 3.11.4 requires cachetools>=4.2.1, but you have cachetools 3.1.1 which is incompatible.\n",
            "panel 0.12.1 requires tqdm>=4.48.0, but you have tqdm 4.28.1 which is incompatible.\n",
            "fbprophet 0.7.1 requires tqdm>=4.36.1, but you have tqdm 4.28.1 which is incompatible.\n",
            "datascience 0.10.6 requires folium==0.2.1, but you have folium 0.8.3 which is incompatible.\u001b[0m\n"
          ]
        }
      ]
    },
    {
      "cell_type": "code",
      "source": [
        "from typing import Callable, Tuple\n",
        "import abc\n",
        "from typing import List, Tuple\n",
        "\n",
        "import os\n",
        "import tensorflow as tf\n",
        "import numpy as np\n",
        "\n",
        "!pip install import-ipynb\n",
        "import import_ipynb\n",
        "# Install the PyDrive wrapper & import libraries.\n",
        "# This only needs to be done once per notebook.\n",
        "!pip install -U -q PyDrive\n",
        "from pydrive.auth import GoogleAuth\n",
        "from pydrive.drive import GoogleDrive\n",
        "from google.colab import auth\n",
        "from oauth2client.client import GoogleCredentials\n",
        "\n",
        "# Authenticate and create the PyDrive client.\n",
        "# This only needs to be done once per notebook.\n",
        "auth.authenticate_user()\n",
        "gauth = GoogleAuth()\n",
        "gauth.credentials = GoogleCredentials.get_application_default()\n",
        "drive = GoogleDrive(gauth)"
      ],
      "metadata": {
        "colab": {
          "base_uri": "https://localhost:8080/"
        },
        "id": "00cJhGOgCQ-E",
        "outputId": "2ec4ae15-f063-4c84-e7c3-27c9722c947b"
      },
      "execution_count": 1,
      "outputs": [
        {
          "output_type": "stream",
          "name": "stdout",
          "text": [
            "Collecting import-ipynb\n",
            "  Downloading import_ipynb-0.1.4-py3-none-any.whl (4.1 kB)\n",
            "Requirement already satisfied: IPython in /usr/local/lib/python3.7/dist-packages (from import-ipynb) (5.5.0)\n",
            "Requirement already satisfied: nbformat in /usr/local/lib/python3.7/dist-packages (from import-ipynb) (5.4.0)\n",
            "Requirement already satisfied: prompt-toolkit<2.0.0,>=1.0.4 in /usr/local/lib/python3.7/dist-packages (from IPython->import-ipynb) (1.0.18)\n",
            "Requirement already satisfied: pickleshare in /usr/local/lib/python3.7/dist-packages (from IPython->import-ipynb) (0.7.5)\n",
            "Requirement already satisfied: setuptools>=18.5 in /usr/local/lib/python3.7/dist-packages (from IPython->import-ipynb) (57.4.0)\n",
            "Requirement already satisfied: decorator in /usr/local/lib/python3.7/dist-packages (from IPython->import-ipynb) (4.4.2)\n",
            "Requirement already satisfied: simplegeneric>0.8 in /usr/local/lib/python3.7/dist-packages (from IPython->import-ipynb) (0.8.1)\n",
            "Requirement already satisfied: pygments in /usr/local/lib/python3.7/dist-packages (from IPython->import-ipynb) (2.6.1)\n",
            "Requirement already satisfied: traitlets>=4.2 in /usr/local/lib/python3.7/dist-packages (from IPython->import-ipynb) (5.2.1.post0)\n",
            "Requirement already satisfied: pexpect in /usr/local/lib/python3.7/dist-packages (from IPython->import-ipynb) (4.8.0)\n",
            "Requirement already satisfied: wcwidth in /usr/local/lib/python3.7/dist-packages (from prompt-toolkit<2.0.0,>=1.0.4->IPython->import-ipynb) (0.2.5)\n",
            "Requirement already satisfied: six>=1.9.0 in /usr/local/lib/python3.7/dist-packages (from prompt-toolkit<2.0.0,>=1.0.4->IPython->import-ipynb) (1.15.0)\n",
            "Requirement already satisfied: jupyter-core in /usr/local/lib/python3.7/dist-packages (from nbformat->import-ipynb) (4.10.0)\n",
            "Requirement already satisfied: jsonschema>=2.6 in /usr/local/lib/python3.7/dist-packages (from nbformat->import-ipynb) (4.3.3)\n",
            "Requirement already satisfied: fastjsonschema in /usr/local/lib/python3.7/dist-packages (from nbformat->import-ipynb) (2.15.3)\n",
            "Requirement already satisfied: importlib-metadata in /usr/local/lib/python3.7/dist-packages (from jsonschema>=2.6->nbformat->import-ipynb) (4.11.3)\n",
            "Requirement already satisfied: typing-extensions in /usr/local/lib/python3.7/dist-packages (from jsonschema>=2.6->nbformat->import-ipynb) (4.2.0)\n",
            "Requirement already satisfied: importlib-resources>=1.4.0 in /usr/local/lib/python3.7/dist-packages (from jsonschema>=2.6->nbformat->import-ipynb) (5.7.1)\n",
            "Requirement already satisfied: pyrsistent!=0.17.0,!=0.17.1,!=0.17.2,>=0.14.0 in /usr/local/lib/python3.7/dist-packages (from jsonschema>=2.6->nbformat->import-ipynb) (0.18.1)\n",
            "Requirement already satisfied: attrs>=17.4.0 in /usr/local/lib/python3.7/dist-packages (from jsonschema>=2.6->nbformat->import-ipynb) (21.4.0)\n",
            "Requirement already satisfied: zipp>=3.1.0 in /usr/local/lib/python3.7/dist-packages (from importlib-resources>=1.4.0->jsonschema>=2.6->nbformat->import-ipynb) (3.8.0)\n",
            "Requirement already satisfied: ptyprocess>=0.5 in /usr/local/lib/python3.7/dist-packages (from pexpect->IPython->import-ipynb) (0.7.0)\n",
            "Installing collected packages: import-ipynb\n",
            "Successfully installed import-ipynb-0.1.4\n"
          ]
        }
      ]
    },
    {
      "cell_type": "code",
      "source": [
        "\n",
        "# Copy the link and remove the front part of the link (i.e. https://drive.google.com/open?id=) to get the file ID.\n",
        "your_module = drive.CreateFile({'id':'1uh4b-cAKF0ZORGh7af9SOSYVToyo5LeF'})  \n",
        "your_module.GetContentFile('constants.ipynb')\n",
        "your_module = drive.CreateFile({'id':'1CbGQgBT6dw0km4H1RbxMUS1maXIPPl9T'})  \n",
        "your_module.GetContentFile('executable.ipynb')"
      ],
      "metadata": {
        "id": "GTR5RxCRuVaU"
      },
      "execution_count": 2,
      "outputs": []
    },
    {
      "cell_type": "code",
      "source": [
        "import constants\n",
        "import executable"
      ],
      "metadata": {
        "id": "sd11eGCQujVF"
      },
      "execution_count": 4,
      "outputs": []
    },
    {
      "cell_type": "code",
      "source": [
        "import numpy as np\n",
        "import tensorflow as tf\n",
        "import tensorflow_federated as tff\n"
      ],
      "metadata": {
        "id": "D91TWfe2CV1H"
      },
      "execution_count": 7,
      "outputs": []
    },
    {
      "cell_type": "code",
      "source": [
        "from abc import abstractmethod\n",
        "from typing import List, Tuple\n",
        "\n",
        "import numpy as np\n",
        "from abc import ABC\n",
        "from typing import Set"
      ],
      "metadata": {
        "id": "3fDTQsqrOhRv"
      },
      "execution_count": 9,
      "outputs": []
    },
    {
      "cell_type": "code",
      "execution_count": 10,
      "metadata": {
        "id": "yMJnlT6ZI9iY"
      },
      "outputs": [],
      "source": [
        "\n",
        "\n",
        "\n",
        "class AbstractAttacker(ABC):\n",
        "\n",
        "    def __init__(self, fraction: float) -> None:\n",
        "        self.fraction = fraction\n",
        "        self.attacked_clients = set()\n",
        "\n",
        "    def get_attacked_clients(self) -> Set[int]:\n",
        "        return self.attacked_clients\n",
        "\n",
        "\n",
        "class AbstractModelAttacker(AbstractAttacker):\n",
        "\n",
        "    def __init__(self, fraction: float) -> None:\n",
        "        super().__init__(fraction)\n",
        "        self.first_trainable_layer = 0\n",
        "\n",
        "    @abc.abstractmethod\n",
        "    def forward_pass(self, dataset: tf.data.Dataset, server_model: tf.keras.Model):\n",
        "        pass\n",
        "\n",
        "    def set_first_trainable_layer(self, first_trainable_layer):\n",
        "        self.first_trainable_layer = first_trainable_layer\n",
        "\n",
        "\n",
        "class NoModelAttacker(AbstractModelAttacker):\n",
        "\n",
        "    def __init__(self) -> None:\n",
        "        super().__init__(0)\n",
        "        self.model_fn = get_model\n",
        "        self.optimizer = get_optimizer()\n",
        "        self.loss = get_loss()\n",
        "\n",
        "    def forward_pass(self, dataset: tf.data.Dataset, server_model: tf.keras.Model):\n",
        "        local_model = self.model_fn()\n",
        "        old_weights = server_model.get_weights()\n",
        "        local_model.set_weights(old_weights)\n",
        "        local_model.compile(\n",
        "            optimizer=self.optimizer,\n",
        "            loss=self.loss\n",
        "        )\n",
        "        local_model.fit(dataset, epochs=NUM_EPOCHS, verbose=0)\n",
        "        weights_delta = tf.nest.map_structure(tf.subtract, local_model.get_weights()[self.first_trainable_layer:],\n",
        "                                              old_weights[self.first_trainable_layer:])\n",
        "        return weights_delta\n",
        "\n",
        "\n",
        "class RandomModelAttacker(AbstractModelAttacker):\n",
        "\n",
        "    def __init__(self, fraction: float, std: float) -> None:\n",
        "        super().__init__(fraction)\n",
        "        self.std = std\n",
        "        self.attacked_clients = set(pick_clients(fraction))\n",
        "\n",
        "    def forward_pass(self, dataset: tf.data.Dataset, server_model: tf.keras.Model):\n",
        "        return [np.random.normal(0, self.std, layer_weight.shape)\n",
        "                for layer_weight in server_model.get_weights()[self.first_trainable_layer:]]\n",
        "\n",
        "\n",
        "class SignFlipModelAttacker(NoModelAttacker):\n",
        "\n",
        "    def __init__(self, fraction: float, multiplier: float) -> None:\n",
        "        super().__init__()\n",
        "        self.fraction = fraction\n",
        "        self.multiplier = multiplier\n",
        "        self.attacked_clients = set(pick_clients(fraction))\n",
        "\n",
        "    def forward_pass(self, dataset: tf.data.Dataset, server_model: tf.keras.Model):\n",
        "        clean_grads = super(SignFlipModelAttacker, self).forward_pass(dataset, server_model)\n",
        "        return [layer * -1 * self.multiplier for layer in clean_grads]\n",
        "\n",
        "\n",
        "class BackdoorAttack(NoModelAttacker):\n",
        "\n",
        "    def __init__(self, fraction: float, target_class: int) -> None:\n",
        "        super().__init__()\n",
        "        self.fraction = fraction\n",
        "        self.target_class = target_class\n",
        "        self.pattern_relative_size = 0.15\n",
        "        self.margin_relative_size = 0.05\n",
        "        self.backdoor_test_samples = []\n",
        "        self.chosen_attackers = 0\n",
        "        self.x_test = []\n",
        "        self.y_test = []\n",
        "\n",
        "    def attack_train(self, partitioned_data: List[Tuple[np.ndarray, np.ndarray]]) -> \\\n",
        "            List[Tuple[np.ndarray, np.ndarray]]:\n",
        "        print(self.__class__.__name__ + \" started.\")\n",
        "        self.attacked_clients = pick_clients(self.fraction)\n",
        "        for client in self.attacked_clients:\n",
        "            x_train, y_train = partitioned_data[client]\n",
        "            attacked_indices = self.pick_attacked_samples(y_train)\n",
        "            y_train[attacked_indices] = self.target_class\n",
        "            x_train[attacked_indices] = self.add_pattern((x_train[attacked_indices]))\n",
        "            partitioned_data[client] = (x_train, y_train)\n",
        "        self.attacked_clients = set(self.attacked_clients)\n",
        "        print(self.__class__.__name__ + \" finished.\")\n",
        "        return partitioned_data\n",
        "\n",
        "    def attack_test(self, x_test, y_test):\n",
        "        attacked_indices = self.pick_attacked_samples(y_test)\n",
        "        y_test[attacked_indices] = self.target_class\n",
        "        x_test[attacked_indices] = self.add_pattern((x_test[attacked_indices]))\n",
        "        self.x_test = x_test[attacked_indices]\n",
        "        self.y_test = y_test[attacked_indices]\n",
        "        return np.delete(x_test, attacked_indices, 0), np.delete(y_test, attacked_indices, 0)\n",
        "\n",
        "    def add_pattern(self, x: np.ndarray):\n",
        "        height, width, channel = x.shape[1:]\n",
        "        pattern_width = int(np.round(self.pattern_relative_size * width))\n",
        "        pattern_height = int(np.round(self.pattern_relative_size * height))\n",
        "        left_margin = int(np.round(self.margin_relative_size * width))\n",
        "        top_margin = int(np.round(self.margin_relative_size * height))\n",
        "        slope = pattern_width / pattern_height\n",
        "        x[:, [top_margin, top_margin + pattern_height], left_margin:left_margin + pattern_width + 1, :] = 255\n",
        "        for image in x:\n",
        "            for h in range(pattern_height):\n",
        "                w = pattern_width - int(np.round(h / slope))\n",
        "                image[top_margin + h, left_margin + w] = 255\n",
        "        return x\n",
        "\n",
        "    def pick_attacked_samples(self, labels: np.ndarray):\n",
        "\n",
        "        pool = np.where(labels != self.target_class)[0]\n",
        "        return np.random.choice(pool, min(int(np.round(.05 * len(labels))), len(pool)), False)\n",
        "\n",
        "    def forward_pass(self, dataset: tf.data.Dataset, server_model: tf.keras.Model):\n",
        "        weights_delta = super().forward_pass(dataset, server_model)\n",
        "\n",
        "        # for epoch in range(NUM_EPOCHS):\n",
        "        #     for x_batch, y_batch in dataset:\n",
        "        #         with tf.GradientTape() as tape:\n",
        "        #             out = local_model(x_batch, training=True)\n",
        "        #             loss_val = self.loss(y_batch, out)\n",
        "        #         grads = tape.gradient(loss_val, local_model.trainable_weights)\n",
        "        #         self.optimizer.apply_gradients(zip(grads, local_model.trainable_weights))\n",
        "\n",
        "        weights_delta = tf.nest.map_structure(lambda x: x * 10 / self.chosen_attackers, weights_delta)\n",
        "        return weights_delta"
      ]
    }
  ]
}