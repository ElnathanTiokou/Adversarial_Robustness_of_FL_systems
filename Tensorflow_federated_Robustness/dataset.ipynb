{
  "nbformat": 4,
  "nbformat_minor": 0,
  "metadata": {
    "colab": {
      "name": "dataset.ipynb",
      "provenance": [],
      "collapsed_sections": [],
      "authorship_tag": "ABX9TyPBhHBOpJmeWzg96GEAOihw",
      "include_colab_link": true
    },
    "kernelspec": {
      "name": "python3",
      "display_name": "Python 3"
    },
    "language_info": {
      "name": "python"
    }
  },
  "cells": [
    {
      "cell_type": "markdown",
      "metadata": {
        "id": "view-in-github",
        "colab_type": "text"
      },
      "source": [
        "<a href=\"https://colab.research.google.com/github/ElnathanTiokou/Adversarial_Robustness_of_FL_systems/blob/main/Tensorflow_federated_Robustness/dataset.ipynb\" target=\"_parent\"><img src=\"https://colab.research.google.com/assets/colab-badge.svg\" alt=\"Open In Colab\"/></a>"
      ]
    },
    {
      "cell_type": "code",
      "execution_count": null,
      "metadata": {
        "id": "xZ1J5i-tRfS5"
      },
      "outputs": [],
      "source": [
        "from typing import Callable, Tuple\n",
        "\n",
        "import os\n",
        "import tensorflow as tf\n",
        "import numpy as np\n",
        "from attacks.data_attacker import AbstractDataAttacker\n",
        "from attacks.model_attacker import BackdoorAttack\n",
        "from constants import *\n",
        "\n",
        "\n",
        "\n",
        "emnist_train, emnist_test = tff.simulation.datasets.emnist.load_data()\n",
        "\n",
        "class Dataset():\n",
        "\n",
        "    def __init__(self):\n",
        "        self.partitioned_data = None\n",
        "        self.data_preprocessor = None\n",
        "\n",
        "    def preprocess(self, dataset):\n",
        "      def batch_format_fn(element):\n",
        "        \"\"\"Flatten a batch of EMNIST data and return a (features, label) tuple.\"\"\"\n",
        "        return (tf.reshape(element['pixels'], [-1, 784]), \n",
        "                tf.reshape(element['label'], [-1, 1]))\n",
        "      self.data_preprocessor = dataset.batch(BATCH_SIZE).map(batch_format_fn)\n",
        "      return self.data_preprocessor\n",
        "\n",
        "    # We now select a small number of clients, and apply the preprocessing above to their datasets.\n",
        "    def partition_dataset(self, non_iid_deg: float):\n",
        "        if self.x_train is None:\n",
        "            return\n",
        "        client_ids = sorted(emnist_train.client_ids)[:NUM_CLIENTS]\n",
        "        self.partitioned_data = [self.preprocess(emnist_train.create_tf_dataset_for_client(x))\n",
        "      for x in client_ids\n",
        "    ]\n",
        "\n",
        "    def attack_data(self, data_attacker: AbstractDataAttacker):\n",
        "        if data_attacker is not None:\n",
        "            self.partitioned_data = data_attacker.attack(self.partitioned_data)\n",
        "\n",
        "    def create_test_data(self):\n",
        "        \n",
        "        return emnist_test\n",
        "\n",
        "    def backdoor(self, model_attacker: BackdoorAttack):\n",
        "        self.partitioned_data = model_attacker.attack_train(self.partitioned_data)\n",
        "        self.x_test, self.y_test = model_attacker.attack_test(self.x_test, self.y_test)\n",
        "\n"
      ]
    }
  ]
}