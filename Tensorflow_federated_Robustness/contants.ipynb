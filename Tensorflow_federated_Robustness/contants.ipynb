{
  "nbformat": 4,
  "nbformat_minor": 0,
  "metadata": {
    "colab": {
      "name": "contants.ipynb",
      "provenance": [],
      "collapsed_sections": [],
      "authorship_tag": "ABX9TyOerg/1WADB/cytdooHZEgy",
      "include_colab_link": true
    },
    "kernelspec": {
      "name": "python3",
      "display_name": "Python 3"
    },
    "language_info": {
      "name": "python"
    }
  },
  "cells": [
    {
      "cell_type": "markdown",
      "metadata": {
        "id": "view-in-github",
        "colab_type": "text"
      },
      "source": [
        "<a href=\"https://colab.research.google.com/github/ElnathanTiokou/Adversarial_Robustness_of_FL_systems/blob/main/Tensorflow_federated_Robustness/contants.ipynb\" target=\"_parent\"><img src=\"https://colab.research.google.com/assets/colab-badge.svg\" alt=\"Open In Colab\"/></a>"
      ]
    },
    {
      "cell_type": "code",
      "execution_count": 1,
      "metadata": {
        "id": "3hehR383Op2t"
      },
      "outputs": [],
      "source": [
        "import numpy as np\n",
        "\n",
        "NUM_CLIENTS = 100    # Selected number of clients: simulation of a cross-device\n",
        "BATCH_SIZE = 20\n",
        "TRAINING_FRACTION = .1\n",
        "NUM_EPOCHS = 5\n",
        "BATCH_SIZE = 10\n",
        "SHUFFLE_BUFFER = 100\n",
        "PREFETCH_BUFFER = 10\n",
        "NUM_ROUNDS = 30\n",
        "\n",
        "def pick_clients(fraction: float):\n",
        "    count = int(np.round(fraction * NUM_CLIENTS))\n",
        "    return np.random.choice(range(NUM_CLIENTS), replace=False, size=count)"
      ]
    }
  ]
}